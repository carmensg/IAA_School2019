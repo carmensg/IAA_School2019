{
 "cells": [
  {
   "cell_type": "code",
   "execution_count": null,
   "metadata": {
    "slideshow": {
     "slide_type": "skip"
    }
   },
   "outputs": [],
   "source": [
    "%matplotlib inline\n",
    "import warnings\n",
    "\n",
    "import matplotlib.pyplot as plt\n",
    "import numpy as np\n",
    "from matplotlib import gridspec\n",
    "\n",
    "warnings.filterwarnings('ignore')"
   ]
  },
  {
   "cell_type": "raw",
   "metadata": {
    "slideshow": {
     "slide_type": "skip"
    }
   },
   "source": [
    "<style type=\"text/css\">\n",
    ".input, .output_prompt {\n",
    "display:none !important;\n",
    "}\n",
    "</style>\n",
    "\n",
    " \n"
   ]
  },
  {
   "cell_type": "markdown",
   "metadata": {
    "slideshow": {
     "slide_type": "slide"
    }
   },
   "source": [
    "# Introduction to Pulsar Timing\n",
    "\n",
    "[![Binder](http://mybinder.org/badge.svg)](http://mybinder.org/repo/matteobachetti/timing-lectures)\n",
    "\n",
    "<img src=\"0737.png\" alt=\"0737\" style=\"height: 300px;margin: auto;\"/>\n",
    "\n",
    "(These slides are obtained from the iPython notebook that can be found [here](https://github.com/matteobachetti/timing-lectures))"
   ]
  },
  {
   "cell_type": "markdown",
   "metadata": {
    "slideshow": {
     "slide_type": "slide"
    }
   },
   "source": [
    "## Contents\n",
    "\n",
    "* Finding pulsars: the buried clock\n",
    "\n",
    "* Frequency analysis: the Fourier Transform and the Power Density Spectrum\n",
    "\n",
    "* Refine the search: Folding search (+ $Z^2_n$, $H$-test, ...)\n",
    "\n",
    "* Getting pulse arrival times "
   ]
  },
  {
   "cell_type": "markdown",
   "metadata": {
    "slideshow": {
     "slide_type": "slide"
    }
   },
   "source": [
    "# Finding pulsars: the buried clock\n",
    "\n",
    "<img src=\"buriedclock.jpg\" alt=\"Buried Clock\" style=\"height: 300px;margin: auto;\"/>\n",
    "\n"
   ]
  },
  {
   "cell_type": "markdown",
   "metadata": {
    "slideshow": {
     "slide_type": "slide"
    }
   },
   "source": [
    "# Finding pulsars: the buried clock\n",
    "\n",
    "* Pulsars are stable rotators: very predictable \"clocks\"\n",
    "\n",
    "<img src=\"smallmodpulsar.gif\" alt=\"Pulsar\" style=\"height: 300px;margin: auto;\"/>"
   ]
  },
  {
   "cell_type": "markdown",
   "metadata": {
    "slideshow": {
     "slide_type": "slide"
    }
   },
   "source": [
    "# Finding pulsars: the buried clock\n",
    "\n",
    "* Pulsars are stable rotators: very predictable \"clocks\"\n",
    "\n",
    "* Often signal buried in noise (below: a 0.853-Hz sinusoidal pulse buried in noise ~30 times stronger)"
   ]
  },
  {
   "cell_type": "code",
   "execution_count": null,
   "metadata": {},
   "outputs": [],
   "source": [
    "def pulsar(time, period=1):\n",
    "    return (1 + np.sin(2 * np.pi / period * time)) / 2.\n",
    "\n",
    "time_bin = 0.009\n",
    "\n",
    "# --- Parameters ----\n",
    "period = 0.8532\n",
    "pulsar_amp = 0.5\n",
    "pulsar_stdev = 0.05\n",
    "noise_amp = 15\n",
    "noise_stdev = 1.5\n",
    "# --------------------\n",
    "\n",
    "# refer to the center of the time bin\n",
    "time = np.arange(0, 100, time_bin) + time_bin / 2\n",
    "\n",
    "signal = np.random.normal(pulsar_amp * pulsar(time, period), pulsar_stdev)\n",
    "noise = np.random.normal(noise_amp, noise_stdev, len(time))\n",
    "total = signal + noise\n",
    "\n",
    "# PLOTTING -------------------------\n",
    "plt.plot(time, signal, 'r-', label='signal')\n",
    "plt.plot(time, noise, 'b-', label='noise')\n",
    "plt.plot(time, total, 'k-', label='total')\n",
    "plt.xlim(0, 30)\n",
    "plt.xlabel('Time')\n",
    "plt.ylabel('Flux')\n",
    "a = plt.legend()\n",
    "# -----------------------------------"
   ]
  },
  {
   "cell_type": "markdown",
   "metadata": {
    "slideshow": {
     "slide_type": "slide"
    }
   },
   "source": [
    "# Frequency analysis: the Fourier Transform\n",
    "\n",
    "Through the Fourier transform, we can decompose a function of time into a series of functions of frequency:\n",
    "\n",
    "\\begin{equation}\n",
    "\\mathcal{F}(\\omega) = \\int^{\\infty}_{-\\infty} e^{-i\\omega t} f(t)\n",
    "\\end{equation}\n",
    "\n",
    "or, more appropriate to our case, in the discrete form, we can decompose a time series into a frequency series:\n",
    "\n",
    "\\begin{equation}\n",
    "F_k = \\sum^{N-1}_{k=0} e^{-2\\pi i k n/N} t_n\n",
    "\\end{equation}\n",
    "\n",
    "it is, in general, a **complex** function.\n",
    "\n",
    "The Fourier transform of a sinusoid will give a high (in absolute terms) value of the $F_k$ corresponding to the frequency of the sinusoid. Other periodic functions will produce high contribution at the fundamental frequency plus one or more multiples of the fundamental, called *harmonics*.\n"
   ]
  },
  {
   "cell_type": "markdown",
   "metadata": {
    "slideshow": {
     "slide_type": "slide"
    }
   },
   "source": [
    "## Our example\n",
    "\n",
    "Let's take the Fourier transform of the signal we simulated above (only taking *positive* frequencies)"
   ]
  },
  {
   "cell_type": "code",
   "execution_count": null,
   "metadata": {},
   "outputs": [],
   "source": [
    "ft = np.fft.fft(total)\n",
    "freqs = np.fft.fftfreq(len(total), time[1] - time[0])\n",
    "good = freqs >0\n",
    "freqs = freqs[good]\n",
    "ft = ft[good]\n",
    "\n",
    "# PLOTTING ---------------------------\n",
    "plt.plot(freqs, ft.real, 'r-', label='real')\n",
    "plt.plot(freqs, ft.imag, 'b-', label='imag')\n",
    "plt.xlim([-0.1, 10])\n",
    "a = plt.legend()\n",
    "_ = plt.xlabel('Frequency (Hz)')\n",
    "_ = plt.ylabel('FT')\n",
    "# -------------------------------------"
   ]
  },
  {
   "cell_type": "markdown",
   "metadata": {},
   "source": [
    "Note that the imaginary part and real part of the Fourier transform have different contributions at the pulsar frequency (1/0.85 s ~ 1.2 Hz). This is because they depend strongly on the phase of the signal [Exercise: **why?**]."
   ]
  },
  {
   "cell_type": "markdown",
   "metadata": {
    "slideshow": {
     "slide_type": "slide"
    }
   },
   "source": [
    "## Our example - 2\n",
    "\n",
    " If we applied a shift of 240 ms (just any value) to the signal:"
   ]
  },
  {
   "cell_type": "code",
   "execution_count": null,
   "metadata": {},
   "outputs": [],
   "source": [
    "shift = 0.240\n",
    "signal_shift = np.roll(total, int(shift / time_bin))\n",
    "ft_shift = np.fft.fft(signal_shift)\n",
    "freqs_shift = np.fft.fftfreq(len(total), time[1] - time[0])\n",
    "good = freqs_shift >0\n",
    "freqs_shift = freqs_shift[good]\n",
    "ft_shift = ft_shift[good]\n",
    "\n",
    "# PLOTTING -------------------------------------\n",
    "plt.plot(freqs_shift, ft_shift.real, 'r-', label='real')\n",
    "plt.plot(freqs_shift, ft_shift.imag, 'b-', label='imag')\n",
    "plt.xlim([-0.1, 10])\n",
    "a = plt.legend()\n",
    "_ = plt.xlabel('Frequency (Hz)')\n",
    "_ = plt.ylabel('FT')\n",
    "# ----------------------------------------------"
   ]
  },
  {
   "cell_type": "markdown",
   "metadata": {},
   "source": [
    "we would clearly have non-zero values at ~0.85 Hz both in the real and the imaginary parts."
   ]
  },
  {
   "cell_type": "markdown",
   "metadata": {
    "slideshow": {
     "slide_type": "slide"
    }
   },
   "source": [
    "# The Power Density Spectrum\n",
    "\n",
    "To solve these issues with real and imaginary parts, we can instead take the *squared modulus* of the Fourier transform. This is called **Periodogram**, but most people use the word **Power Density Spectrum** (a periodogram is actually a single realization of the underlying PDS).\n",
    "\n",
    "\\begin{equation}\n",
    "\\mathcal{P}(\\omega) = \\mathcal{F}(\\omega) \\cdot \\mathcal{F}^*(\\omega)\n",
    "\\end{equation}\n",
    "\n",
    "This function is positive-definite and in our case results in a clear peak at the pulse frequency, *consistent* between original and shifted signal:"
   ]
  },
  {
   "cell_type": "code",
   "execution_count": null,
   "metadata": {},
   "outputs": [],
   "source": [
    "pds = np.abs(ft*ft.conj())\n",
    "pds_shift = np.abs(ft_shift*ft_shift.conj())\n",
    "\n",
    "fmax = freqs[np.argmax(pds)]\n",
    "pmax = 1 / fmax\n",
    "\n",
    "# PLOTTING ---------------------------------\n",
    "plt.plot(freqs, pds, 'r-', label='PDS of signal')\n",
    "plt.plot(freqs_shift, pds_shift, 'b-', label='PDS of shifted signal')\n",
    "a = plt.legend()\n",
    "a = plt.xlabel('Frequency (Hz)')\n",
    "a = plt.ylabel('PDS')\n",
    "plt.xlim([-0.1, 3.5])\n",
    "_ = plt.gca().annotate('max = {:.2f} s ({:.2f} Hz)'.format(pmax, fmax), xy=(2., max(pds) / 2))\n",
    "# -------------------------------------------"
   ]
  },
  {
   "cell_type": "markdown",
   "metadata": {
    "slideshow": {
     "slide_type": "slide"
    }
   },
   "source": [
    "## The Power Density Spectrum -2\n",
    "\n",
    "The PDS of a generic non-sinusoidal pulse profile will, in general, contain more than one harmonic, with the fundamental not always predominant."
   ]
  },
  {
   "cell_type": "code",
   "execution_count": null,
   "metadata": {},
   "outputs": [],
   "source": [
    "def gaussian_periodic(x, x0, amp, width):\n",
    "    '''Approximates a Gaussian periodic function by summing the contributions in the phase\n",
    "    range 0--1 with those in the phase range -1--0 and 1--2'''\n",
    "    phase = x - np.floor(x)\n",
    "    lc = np.zeros_like(x)\n",
    "    for shift in [-1, 0, 1]:\n",
    "        lc += amp * np.exp(-(phase + shift - x0)**2 / width ** 2)\n",
    "        \n",
    "    return lc\n",
    "\n",
    "def generate_profile(time, period):\n",
    "    '''Simulate a given profile with 1-3 Gaussian components'''\n",
    "    total_phase = time / period\n",
    "    ngauss = np.random.randint(1, 3)\n",
    "    lc = np.zeros_like(total_phase)\n",
    "    for i in range(ngauss):\n",
    "        ph0 = np.random.uniform(0, 1)\n",
    "        amp = np.random.uniform(0.1, 1)\n",
    "        width = np.random.uniform(0.01, 0.2)\n",
    "        lc += gaussian_periodic(total_phase, ph0, amp, width)\n",
    "    \n",
    "    return lc\n",
    "\n",
    "# PLOTTING -------------------------\n",
    "ncols = 2\n",
    "nrows = 3\n",
    "fig = plt.figure(figsize=(12, 8))\n",
    "fig.suptitle('Profiles and their PDSs')\n",
    "\n",
    "gs = gridspec.GridSpec(nrows, ncols)\n",
    "\n",
    "for c in range(ncols):\n",
    "    for r in range(nrows):\n",
    "# ----------------------------------\n",
    "        noise = np.random.normal(noise_amp, noise_stdev, len(time))\n",
    "\n",
    "        lc = generate_profile(time, period)\n",
    "        lc_noisy = np.random.normal(2 * lc, 0.2) + noise\n",
    "        \n",
    "        lcft = np.fft.fft(lc_noisy)\n",
    "        lcfreq = np.fft.fftfreq(len(lc_noisy), time[1] - time[0])\n",
    "        lcpds = np.absolute(lcft) ** 2 \n",
    "\n",
    "        # PLOTTING -------------------------\n",
    "\n",
    "        gs_2 = gridspec.GridSpecFromSubplotSpec(1, 2, subplot_spec=gs[r, c])\n",
    "        ax = plt.subplot(gs_2[0])\n",
    "        good = time < period * 3\n",
    "        ax.plot(time[good] / period, lc[good])\n",
    "        \n",
    "        ax.set_xlim([0,3])\n",
    "        ax.set_xlabel('Phase')\n",
    "        \n",
    "        ax = plt.subplot(gs_2[1])\n",
    "        ax.plot(lcfreq[lcfreq > 0], lcpds[lcfreq > 0] / max(lcpds[lcfreq > 0]))\n",
    "        ax.set_xlabel('Frequency')\n",
    "        ax.set_xlim([0, 10])\n",
    "\n",
    "        # ----------------------------------"
   ]
  },
  {
   "cell_type": "markdown",
   "metadata": {
    "slideshow": {
     "slide_type": "slide"
    }
   },
   "source": [
    "## Pulsation?\n",
    "\n",
    "Here are some examples of power density spectra. In some cases, it might look like a pulsation is present in the data. How do we assess this?\n"
   ]
  },
  {
   "cell_type": "code",
   "execution_count": null,
   "metadata": {},
   "outputs": [],
   "source": [
    "# PLOTTING -------------------------\n",
    "ncols = 2\n",
    "nrows = 3\n",
    "fig = plt.figure(figsize=(12, 8))\n",
    "fig.suptitle('Profiles and their PDSs')\n",
    "\n",
    "gs = gridspec.GridSpec(nrows, ncols)\n",
    "\n",
    "for c in range(ncols):\n",
    "    for r in range(nrows):\n",
    "# ----------------------------------\n",
    "\n",
    "        noise = np.random.normal(noise_amp, noise_stdev, len(time))\n",
    "        lc = np.zeros_like(time)\n",
    "        lc_noisy = np.random.normal(2 * lc, 0.2) + noise\n",
    "        \n",
    "        lcft = np.fft.fft(lc_noisy)\n",
    "        lcfreq = np.fft.fftfreq(len(lc_noisy), time[1] - time[0])\n",
    "        lcpds = np.absolute(lcft) ** 2 \n",
    "\n",
    "        # PLOTTING -------------------------\n",
    "\n",
    "        gs_2 = gridspec.GridSpecFromSubplotSpec(1, 2, subplot_spec=gs[r, c])\n",
    "        ax = plt.subplot(gs_2[0])\n",
    "        good = time < period * 3\n",
    "        ax.plot(time[good] / period, lc[good])\n",
    "        \n",
    "        ax.set_xlim([0,3])\n",
    "        ax.set_xlabel('Phase')\n",
    "        \n",
    "        ax = plt.subplot(gs_2[1])\n",
    "        ax.plot(lcfreq[lcfreq > 0], lcpds[lcfreq > 0] / max(lcpds[lcfreq > 0]))\n",
    "        ax.set_xlabel('Frequency')\n",
    "        ax.set_xlim([0, 10])\n",
    "\n",
    "        # ----------------------------------"
   ]
  },
  {
   "cell_type": "markdown",
   "metadata": {
    "collapsed": true,
    "slideshow": {
     "slide_type": "slide"
    }
   },
   "source": [
    "# Epoch folding\n",
    "\n",
    "Epoch folding consists of summing equal, one pulse period-long, chunks of data. If the period is just right, the crests will sum up in phase, gaining signal over noise [Exercise: **how much will we gain** by summing up in phase $N$ chunks of data at the right period?]."
   ]
  },
  {
   "cell_type": "code",
   "execution_count": null,
   "metadata": {},
   "outputs": [],
   "source": [
    "def epoch_folding(time, signal, period, nperiods=3, nbin=16):\n",
    "    # The phase of the pulse is always between 0 and 1.\n",
    "    phase = time / period\n",
    "    phase -= phase.astype(int)\n",
    "    \n",
    "    # First histogram: divide phase range in nbin bins, and count how many signal bins\n",
    "    # fall in each histogram bin. The sum is weighted by the value of the signal at \n",
    "    # each phase\n",
    "    prof_raw, bins = np.histogram(\n",
    "        phase, bins=np.linspace(0, 1, nbin + 1),\n",
    "        weights=signal)\n",
    "    # \"Exposure\": how many signal bins have been summed in each histogram bin\n",
    "    expo, bins = np.histogram(phase, bins=np.linspace(0, 1, nbin + 1))\n",
    "    \n",
    "    # ---- Evaluate errors -------\n",
    "    prof_sq, bins = np.histogram(\n",
    "        phase, bins=np.linspace(0, 1, nbin + 1),\n",
    "        weights=signal ** 2)\n",
    "    # Variance of histogram bin: \"Mean of squares minus square of mean\" X N\n",
    "    hist_var = (prof_sq / expo - (prof_raw / expo) ** 2) * expo\n",
    "    # Then, take square root -> Stdev, then normalize / N. \n",
    "    prof_err = np.sqrt(hist_var)\n",
    "    #-----------------------------\n",
    "    # Normalize by exposure\n",
    "    prof = prof_raw / expo\n",
    "    prof_err = prof_err / expo\n",
    "    \n",
    "    # histogram returns all bin edges, including last one. Here we take the\n",
    "    # center of each bin.\n",
    "    phase_bins = (bins[1:] + bins[:-1]) / 2\n",
    "    \n",
    "    # ---- Return the same pattern 'nperiods' times, for visual purposes -----\n",
    "    final_prof = np.array([])\n",
    "    final_phase = np.array([])\n",
    "    final_prof_err = np.array([])\n",
    "    for n in range(nperiods):\n",
    "        final_prof = np.append(final_prof, prof)\n",
    "        final_phase = np.append(final_phase, phase_bins + n)\n",
    "        final_prof_err = np.append(final_prof_err, prof_err)\n",
    "    # ---------------------------\n",
    "    return final_phase, final_prof, final_prof_err\n",
    "\n",
    "phase, profile, profile_err = epoch_folding(time, total, period)\n",
    "phase_shift, profile_shift, profile_shift_err = epoch_folding(time, signal_shift, period)\n",
    "\n",
    "# PLOTTING -------------------------------------------------------------\n",
    "plt.errorbar(\n",
    "    phase, profile, yerr=profile_err, drawstyle='steps-mid',\n",
    "    label='Signal')\n",
    "plt.errorbar(\n",
    "    phase_shift, profile_shift, yerr=profile_shift_err,\n",
    "    drawstyle='steps-mid', label='Shifted signal')\n",
    "\n",
    "_ = plt.legend()\n",
    "_ = plt.xlabel('Phase')\n",
    "_ = plt.ylabel('Counts/bin')\n",
    "# -------------------------------------------------------------------"
   ]
  },
  {
   "cell_type": "markdown",
   "metadata": {
    "slideshow": {
     "slide_type": "slide"
    }
   },
   "source": [
    "# Epoch folding search\n",
    "\n",
    "Now, let's run epoch folding at a number of trial periods around the pulse period. To evaluate how much a given profile \"looks pulsar-y\", we can use the $\\chi^2$ statistics, as follows:\n",
    "\n",
    "\\begin{equation}\n",
    "\\mathcal{S} = \\sum_{i=0}^N \\frac{(p_i - \\bar{p})^2}{\\sigma_p^2}\n",
    "\\end{equation}\n",
    "\n",
    "for each profile obtained for each trial value of the pulse frequency and look for peaks$^1$. [Exercise: do you know what statistics this is? And why does that statistics work for our case? Exercise-2: Note the very large number of trials. Can we optimize the search so that we use less trials without losing sensitivity?]\n",
    "\n",
    "$^1$ 1.\tLeahy, D. A. et al. On searches for pulsed emission with application to four globular cluster X-ray sources - NGC 1851, 6441, 6624, and 6712. _ApJ_ **266**, 160 (1983)."
   ]
  },
  {
   "cell_type": "code",
   "execution_count": null,
   "metadata": {},
   "outputs": [],
   "source": [
    "def pulse_profile_stat(profile, profile_err):\n",
    "    return np.sum(\n",
    "        (profile - np.mean(profile)) ** 2 / profile_err ** 2)\n",
    "\n",
    "trial_periods = np.arange(0.7, 1.0, 0.0002)\n",
    "stats = np.zeros_like(trial_periods)\n",
    "for i, p in enumerate(trial_periods):\n",
    "    phase, profile, profile_err = epoch_folding(time, total, p)\n",
    "    stats[i] = pulse_profile_stat(profile, profile_err)\n",
    "\n",
    "bestp = trial_periods[np.argmax(stats)]\n",
    "\n",
    "phase_search, profile_search, profile_search_err = \\\n",
    "    epoch_folding(time, total, bestp)\n",
    "phase, profile, profile_err = epoch_folding(time, total, period)\n",
    "\n",
    "# PLOTTING -------------------------------\n",
    "fig = plt.figure(figsize=(10, 3))\n",
    "gs = gridspec.GridSpec(1, 2)\n",
    "ax = plt.subplot(gs[0])\n",
    "ax.plot(trial_periods, stats)\n",
    "ax.set_xlim([0.7, 1])\n",
    "ax.set_xlabel('Period (s)')\n",
    "ax.set_ylabel('$\\chi^2$')\n",
    "ax.axvline(period, color='r', label=\"True value\")\n",
    "_ = ax.legend()\n",
    "ax.annotate('max = {:.5f} s'.format(pmax), xy=(.9, max(stats) / 2))\n",
    "\n",
    "ax2 = plt.subplot(gs[1])\n",
    "\n",
    "ax2.errorbar(phase_search, profile_search, yerr=profile_search_err,\n",
    "             drawstyle='steps-mid', label='Search')\n",
    "ax2.errorbar(phase, profile, yerr=profile_err, drawstyle='steps-mid',\n",
    "             label='True period')\n",
    "ax2.set_xlabel('Phase')\n",
    "ax2.set_ylabel('Counts/bin')\n",
    "\n",
    "_ = ax2.legend()\n",
    "# ------------------------------------------"
   ]
  },
  {
   "cell_type": "markdown",
   "metadata": {
    "slideshow": {
     "slide_type": "slide"
    }
   },
   "source": [
    "# Times of arrival (TOA)\n",
    "To calculate the time of arrival of the pulses, we need to:\n",
    "\n",
    "* Choose what **part of the pulse** is the reference (e.g., the maximum). Once we know that, if $\\phi_{max}$ is the phase of the maximum of the pulse, $t_{start}$ the time at the start of the folded light curve, and $p$ is the folding period,\n",
    "\n",
    "$TOA = t_{start} + \\phi_{max} \\cdot p$\n",
    "\n",
    "* Choose a **method** to calculate the TOA: \n",
    "\n",
    "  + The maximum bin?\n",
    "  \n",
    "  + The phase of a sinusoidal fit?\n",
    "  \n",
    "  + The phase of a more complicated fit?\n",
    " \n",
    "Hereafter, we are going to use the maximum of the pulse as a reference, and we will calculate the TOA with the three methods above. "
   ]
  },
  {
   "cell_type": "markdown",
   "metadata": {
    "slideshow": {
     "slide_type": "slide"
    }
   },
   "source": [
    "## TOA from the maximum bin\n",
    "\n",
    "**Advantage**\n",
    "\n",
    "* Very fast and easy to implement\n",
    "\n",
    "**Disadvantages**\n",
    "\n",
    "* Very rough (maximum precision, the width of the bin)\n",
    "\n",
    "* Very uncertain (if statistics is low and/or the pulse is broad, many close-by bins can randomly be the maximum)"
   ]
  },
  {
   "cell_type": "code",
   "execution_count": null,
   "metadata": {},
   "outputs": [],
   "source": [
    "phase_bin = 1 / 32.\n",
    "ph = np.arange(phase_bin / 2, phase_bin / 2 + 1, phase_bin)\n",
    "shape = np.sin(2 * np.pi * ph) + 2\n",
    "pr_1 = np.random.poisson(shape * 10000) / 10000\n",
    "pr_2 = np.random.poisson(shape * 10) / 10\n",
    "\n",
    "# PLOTTING -----------------------------\n",
    "plt.plot(ph, shape, label='Theoretical shape', color='k')\n",
    "plt.plot(\n",
    "    ph, pr_1, drawstyle='steps-mid', color='r',\n",
    "    label='Shape - good stat')\n",
    "plt.plot(\n",
    "    ph, pr_2, drawstyle='steps-mid', color='b',\n",
    "    label='Shape - bad stat')\n",
    "plt.axvline(0.25, ls=':', color='k', lw=2, label='Real maximum')\n",
    "plt.axvline(\n",
    "    ph[np.argmax(pr_1)], ls='--', color='r', lw=2,\n",
    "    label='Maximum - good stat')\n",
    "plt.axvline(\n",
    "    ph[np.argmax(pr_2)], ls='--', color='b', lw=2,\n",
    "    label='Maximum - bad stat')\n",
    "\n",
    "_ = plt.legend()\n",
    "# --------------------------------------"
   ]
  },
  {
   "cell_type": "markdown",
   "metadata": {
    "slideshow": {
     "slide_type": "slide"
    }
   },
   "source": [
    "## TOA from single sinusoidal fit\n",
    "\n",
    "**Advantage**\n",
    "\n",
    "* Relatively easy task (fitting with a sinusoid)\n",
    "\n",
    "* Errors are well determined provided that the pulse is broad\n",
    "\n",
    "**Disadvantages**\n",
    "\n",
    "* If profile is not sinusoidal, might not be well determined\n",
    "\n",
    "Below, the phase of the pulse is always 0.25"
   ]
  },
  {
   "cell_type": "code",
   "execution_count": null,
   "metadata": {},
   "outputs": [],
   "source": [
    "def sinusoid(phase, phase0, amplitude, offset):\n",
    "    return offset + np.cos(2 * np.pi * (phase - phase0))\n",
    "\n",
    "from scipy.optimize import curve_fit\n",
    "\n",
    "# PLOTTING ------------------\n",
    "fig = plt.figure(figsize=(12, 3))\n",
    "gs = gridspec.GridSpec(1, 4)\n",
    "ax1 = plt.subplot(gs[0])\n",
    "ax1.set_title('Theoretical')\n",
    "ax2 = plt.subplot(gs[1])\n",
    "ax2.set_title('Sinusoidal, good stat')\n",
    "ax3 = plt.subplot(gs[2])\n",
    "ax3.set_title('Sinusoidal, noisy')\n",
    "ax4 = plt.subplot(gs[3])\n",
    "ax4.set_title('Complicated profile')\n",
    "# ---------------------------\n",
    "\n",
    "# Fit sinusoid to theoretical shape\n",
    "par, pcov = curve_fit(sinusoid, ph, shape)\n",
    "\n",
    "# PLOTTING -----------------------------------------------\n",
    "ax1.plot(ph, sinusoid(ph, *par))\n",
    "ax1.plot(ph, shape)\n",
    "par[0] -= np.floor(par[0])\n",
    "ax1.annotate('phase = {:.2f}'.format(par[0]), xy=(.5, .3))\n",
    "ax1.set_ylim([0, 4])\n",
    "\n",
    "# Fit to good-stat line\n",
    "# ---------------------------------------------------------\n",
    "\n",
    "par, pcov = curve_fit(sinusoid, ph, pr_1)\n",
    "\n",
    "# PLOTTING -----------------------------------------------\n",
    "\n",
    "ax2.plot(ph, sinusoid(ph, *par))\n",
    "ax2.plot(ph, pr_1)\n",
    "par[0] -= np.floor(par[0])\n",
    "ax2.annotate('phase = {:.2f}'.format(par[0]), xy=(.5, .3))\n",
    "ax2.set_ylim([0, 4])\n",
    "\n",
    "# Fit to bad-stat line\n",
    "# ---------------------------------------------------------\n",
    "\n",
    "par, pcov = curve_fit(sinusoid, ph, pr_2)\n",
    "\n",
    "# PLOTTING -----------------------------------------------\n",
    "\n",
    "ax3.plot(ph, sinusoid(ph, *par))\n",
    "ax3.plot(ph, pr_2, drawstyle='steps-mid')\n",
    "par[0] -= np.floor(par[0])\n",
    "ax3.annotate('phase = {:.2f}'.format(par[0]), xy=(.5, .3))\n",
    "ax3.set_ylim([0, 4])\n",
    "\n",
    "# Now try with a complicated profile (a double Gaussian)\n",
    "# ---------------------------------------------------------\n",
    "\n",
    "pr_3_clean = 0.3 + np.exp(- (ph - 0.25) ** 2 / 0.001) + 0.5 * np.exp(- (ph - 0.75) ** 2 / 0.01)\n",
    "pr_3 = np.random.poisson(pr_3_clean * 100) / 50\n",
    "# Let us normalize the template with the same factor (100 / 50) of the randomized one. It will be helpful later\n",
    "pr_3_clean *= 2\n",
    "\n",
    "par, pcov = curve_fit(sinusoid, ph, pr_3, maxfev=10000)\n",
    "\n",
    "# PLOTTING -----------------------------------------------\n",
    "\n",
    "ax4.plot(ph, sinusoid(ph, *par), label='Fit')\n",
    "ax4.plot(ph, pr_3, drawstyle='steps-mid', label='Noisy profile')\n",
    "ax4.plot(ph, pr_3_clean, label='Real profile')\n",
    "\n",
    "par[0] -= np.floor(par[0])\n",
    "ax4.annotate('phase = {:.2f}'.format(par[0]), xy=(.5, .3))\n",
    "ax4.set_ylim([0, 4])\n",
    "_ = ax4.legend()\n",
    "# ---------------------------------------------------------"
   ]
  },
  {
   "cell_type": "markdown",
   "metadata": {
    "slideshow": {
     "slide_type": "slide"
    }
   },
   "source": [
    "## TOA from non-sinusoidal fit: multiple harmonic fitting\n",
    "\n",
    "**Multiple harmonic fitting**$^1$ (the profile is described by a sum of sinusoids) is just an extension of the single-harmonic fit by adding additional sinusoidal components at multiple frequencies.\n",
    "\n",
    "**Advantages**\n",
    "\n",
    "* Still conceptually easy, but more robust and reliable\n",
    "\n",
    "**Disadvantages**\n",
    "\n",
    "* The phase is not determined by the fit (in general, it isn't he phase of any of the sinusoids [Exercise: why?]) and needs to be determined from the maximum of the profile. Errors are not straightforward to implement.\n",
    "\n",
    "$^1$e.g. Riggio, A. et al. Timing of the accreting millisecond pulsar IGR J17511-3057. _A&A_ **526**, 95 (2011).\n"
   ]
  },
  {
   "cell_type": "markdown",
   "metadata": {
    "slideshow": {
     "slide_type": "slide"
    }
   },
   "source": [
    "## TOA from non-sinusoidal fit: Template pulse shapes\n",
    "\n",
    "* **Cross-correlation** of template pulse shape\n",
    "\n",
    "* **Fourier-domain fitting (FFTFIT)**$^1$ -> the usual choice. Consists of taking the Fourier transform of the profile $\\mathcal{P}$ and of the template $\\mathcal{T}$ and minimizing the following objective function (similar to $\\chi^2$):\n",
    "\\begin{equation}\n",
    "F = \\sum_k \\frac{|\\mathcal{P}_k - a\\mathcal{T}_k e^{-2\\pi i k\\phi}|^2}{\\sigma^2}\n",
    "\\end{equation}\n",
    "\n",
    "**Advantages**\n",
    "\n",
    "* Much more robust and reliable\n",
    "\n",
    "* Errors well determined whatever the pulse shape\n",
    "\n",
    "**Disadvantages**\n",
    "\n",
    "* Relatively trickier to implement\n",
    "\n",
    "* Needs good template pulse profile\n",
    "\n",
    "$^1$Taylor, J. H. Pulsar Timing and Relativistic Gravity. _Philosophical Transactions: Physical Sciences and Engineering_ **341**, 117â€“134 (1992)."
   ]
  },
  {
   "cell_type": "code",
   "execution_count": null,
   "metadata": {
    "slideshow": {
     "slide_type": "slide"
    }
   },
   "outputs": [],
   "source": [
    "def fftfit_fun(profile, template, amplitude, phase):\n",
    "    '''Objective function to be minimized - \\'a la Taylor (1992).'''\n",
    "    \n",
    "    prof_ft = np.fft.fft(profile)\n",
    "    temp_ft = np.fft.fft(template)\n",
    "    freq = np.fft.fftfreq(len(profile))\n",
    "    good = freq > 0\n",
    "    idx = np.arange(0, prof_ft.size, dtype=int)\n",
    "    sigma = np.std(prof_ft[good])\n",
    "    return np.sum(np.absolute(prof_ft - temp_ft*amplitude*np.exp(-2*np.pi*1.0j*idx*phase))**2 / sigma)\n",
    "\n",
    "def obj_fun(pars, data):\n",
    "    '''Wrap parameters and input data up in order to be used with minimization\n",
    "    algorithms.'''\n",
    "    amplitude, phase = pars\n",
    "    profile, template = data\n",
    "    return fftfit_fun(profile, template, amplitude, phase)\n",
    "\n",
    "# Produce 16 realizations of pr_3, at different amplitudes and phases, and reconstruct the phase\n",
    "from scipy.optimize import fmin, basinhopping\n",
    "\n",
    "# PLOTTING --------------------------\n",
    "\n",
    "fig = plt.figure(figsize=(10, 10))\n",
    "fig.suptitle('FFTfit results')\n",
    "gs = gridspec.GridSpec(4, 4)\n",
    "\n",
    "# -----------------------------------\n",
    "amp0 = 1\n",
    "phase0 = 0\n",
    "p0 = [amp0, phase0]\n",
    "for i in range(16):\n",
    "    # PLOTTING --------------------------\n",
    "    col = i % 4\n",
    "    row = i // 4\n",
    "    # -----------------------------------\n",
    "\n",
    "    factor = 10 ** np.random.uniform(1, 3)\n",
    "    pr_orig = np.random.poisson(pr_3_clean * factor)\n",
    "    roll_len = np.random.randint(0, len(pr_orig) - 1)\n",
    "    pr = np.roll(pr_orig, roll_len)\n",
    "\n",
    "#    # Using generic minimization algorithms is faster, but local minima can be a problem\n",
    "#    res = fmin(obj_fun, p0, args=([pr, pr_3_clean],), disp=False, full_output=True)\n",
    "#    amplitude_res, phase_res = res[0]\n",
    "\n",
    "    # The basinhopping algorithm is very slow but very effective in finding \n",
    "    # the global minimum of functions with local minima.\n",
    "    res = basinhopping(obj_fun, p0, minimizer_kwargs={'args':([pr, pr_3_clean],)})\n",
    "    amplitude_res, phase_res = res.x\n",
    "    \n",
    "    phase_res -= np.floor(phase_res)\n",
    "    newphase = ph + phase_res\n",
    "    newphase -= np.floor(newphase)\n",
    "    \n",
    "    # Sort arguments of phase so that they are ordered in plot\n",
    "    # (avoids ugly lines traversing the plot)\n",
    "    order = np.argsort(newphase)\n",
    "\n",
    "    # PLOTTING --------------------------\n",
    "\n",
    "    ax = plt.subplot(gs[row, col])\n",
    "    ax.plot(ph, pr, 'k-')\n",
    "    \n",
    "    ax.plot(newphase[order], amplitude_res * pr_3_clean[order], 'r-')\n",
    "    # -------------------------------------"
   ]
  },
  {
   "cell_type": "markdown",
   "metadata": {
    "collapsed": true,
    "slideshow": {
     "slide_type": "slide"
    }
   },
   "source": [
    "## The Z_n search\n",
    "\n",
    "$Z_n^2$ is another widely used statistics for high-energy pulsar searches.\n",
    "It measures how the probability of photons in a given phase is proportional to a given combination of $n$ harmonics. Or in other words, how well the pulse profile is described by a combination of sinusoidal harmonics.\n",
    "The definition of this statistical indicator is (Buccheri+1983):\n",
    "\n",
    "$$\n",
    "Z^2_n = \\dfrac{2}{N} \\sum_{k=1}^n \\left[{\\left(\\sum_{j=1}^N \\cos k \\phi_j\\right)}^2 + {\\left(\\sum_{j=1}^N \\sin k \\phi_j\\right)}^2\\right] \\; ,\n",
    "$$\n",
    "\n",
    "The formula can be slightly modified for binned data, by introducing a `weight` quantity giving the number of photons (or another measure of flux) in a given bin (Huppenkothen+2019):\n",
    "\n",
    "$$\n",
    "Z^2_n \\approx \\dfrac{2}{\\sum_j{w_j}} \\sum_{k=1}^n \\left[{\\left(\\sum_{j=1}^m w_j \\cos k \\phi_j\\right)}^2 + {\\left(\\sum_{j=1}^m w_j \\sin k \\phi_j\\right)}^2\\right]\n",
    "$$"
   ]
  },
  {
   "cell_type": "code",
   "execution_count": null,
   "metadata": {
    "slideshow": {
     "slide_type": "slide"
    }
   },
   "outputs": [],
   "source": [
    "def z_n(time, p, n=2, weight=1):\n",
    "    '''Z^2_n statistics, a` la Buccheri+03, A&A, 128, 245, eq. 2.\n",
    "\n",
    "    Parameters\n",
    "    ----------\n",
    "    phase : array of floats\n",
    "        The phases of the events\n",
    "    n : int, default 2\n",
    "        Number of harmonics, including the fundamental\n",
    "\n",
    "    Other Parameters\n",
    "    ----------------\n",
    "    norm : float or array of floats\n",
    "        A normalization factor that gets multiplied as a weight.\n",
    "\n",
    "    Returns\n",
    "    -------\n",
    "    z2_n : float\n",
    "        The Z^2_n statistics of the events.\n",
    "    '''\n",
    "    phase = time / p\n",
    "    \n",
    "    nbin = len(phase)\n",
    "\n",
    "    if nbin == 0:\n",
    "        return 0\n",
    "\n",
    "    weight = np.asarray(weight)\n",
    "    if weight.size == 1:\n",
    "        total_weight = nbin * weight\n",
    "    else:\n",
    "        total_weight = np.sum(weight)\n",
    "    phase = phase * 2 * np.pi\n",
    "    return 2 / total_weight * \\\n",
    "        np.sum([np.sum(np.cos(k * phase) * weight) ** 2 +\n",
    "                np.sum(np.sin(k * phase) * weight) ** 2\n",
    "                for k in range(1, n + 1)])\n",
    "\n",
    "trial_periods = np.arange(0.7, 1.0, 0.0002)\n",
    "stats = np.zeros_like(trial_periods)\n",
    "for i, p in enumerate(trial_periods):\n",
    "    stats[i] = z_n(time, p, weight=total)\n",
    "\n",
    "bestp = trial_periods[np.argmax(stats)]\n",
    "\n",
    "phase_search, profile_search, profile_search_err = \\\n",
    "    epoch_folding(time, total, bestp)\n",
    "phase, profile, profile_err = epoch_folding(time, total, period)\n",
    "\n",
    "# PLOTTING -------------------------------\n",
    "fig = plt.figure(figsize=(10, 3))\n",
    "gs = gridspec.GridSpec(1, 2)\n",
    "ax = plt.subplot(gs[0])\n",
    "ax.plot(trial_periods, stats)\n",
    "ax.set_xlim([0.7, 1])\n",
    "ax.set_xlabel('Period (s)')\n",
    "ax.set_ylabel('$\\chi^2$')\n",
    "ax.axvline(period, color='r', label=\"True value\")\n",
    "_ = ax.legend()\n",
    "ax.annotate('max = {:.5f} s'.format(pmax), xy=(.9, max(stats) / 2))\n",
    "\n",
    "ax2 = plt.subplot(gs[1])\n",
    "\n",
    "ax2.errorbar(phase_search, profile_search, yerr=profile_search_err,\n",
    "             drawstyle='steps-mid', label='Search')\n",
    "ax2.errorbar(phase, profile, yerr=profile_err, drawstyle='steps-mid',\n",
    "             label='True period')\n",
    "ax2.set_xlabel('Phase')\n",
    "ax2.set_ylabel('Counts/bin')\n",
    "\n",
    "_ = ax2.legend()\n",
    "# ------------------------------------------"
   ]
  },
  {
   "cell_type": "markdown",
   "metadata": {},
   "source": [
    "## Pulsation searches with HENDRICS\n",
    "\n",
    "1. To read a fits file into an event list file:\n",
    "\n",
    "```\n",
    "$ HENreadevents file.evt.gz\n",
    "```\n",
    "a file called something like `file_mission_instr_ev.nc` appears\n",
    "\n",
    "2. To calculate the light curve (binning the events) with a sample time of 1 s:\n",
    "\n",
    "```\n",
    "$ HENlcurve file_mission_instr_ev.nc -b 1\n",
    "```\n",
    "\n",
    "3. To calculate the averaged power density spectrum cutting the data by chunks of 128 s:\n",
    "\n",
    "```\n",
    "$ HENfspec file_mission_instr_lc.nc -f 128\n",
    "```\n",
    "\n",
    "4. To watch the power density spectrum:\n",
    "\n",
    "```\n",
    "$ HENplot file_mission_instr_pds.nc\n",
    "```\n",
    "\n",
    "5. To run a $Z^2_4$ search, e.g.  between frequencies 0.5 and 0.6:\n",
    "\n",
    "```\n",
    "$ HENzsearch file_mission_instr_pds.nc -f 0.5 -F 0.6 -N 4\n",
    "```\n",
    "\n",
    "6. To run a $Z^2_2$ search searching in the frequency -- fdot space\n",
    "\n",
    "```\n",
    "$ HENzsearch file_mission_instr_ev.nc -f 0.5 -F 0.6 -N 2 --fast\n",
    "```\n",
    "\n",
    "7. Then... follow the instructions...\n",
    "\n",
    "### BONUS\n",
    "\n",
    "8. Calculate the TOAs and create a parameter and timing file (can you find how?)\n",
    "\n",
    "9. Use `pintk` (from `github.com/nanograv/PINT`) to fit the pulse solution\n",
    "\n",
    "```\n",
    "$ pintk parfile.par timfile.tim\n",
    "```\n",
    "\n",
    "NB: due to a bug to PINT (under investigation), you might need to add the line\n",
    "```\n",
    "TZRMJD    55555\n",
    "```\n",
    "\n",
    "Substitute 55555 with the value of PEPOCH in the parameter file.\n"
   ]
  },
  {
   "cell_type": "code",
   "execution_count": null,
   "metadata": {},
   "outputs": [],
   "source": []
  }
 ],
 "metadata": {
  "celltoolbar": "Slideshow",
  "kernelspec": {
   "display_name": "Python 3",
   "language": "python",
   "name": "python3"
  },
  "language_info": {
   "codemirror_mode": {
    "name": "ipython",
    "version": 3
   },
   "file_extension": ".py",
   "mimetype": "text/x-python",
   "name": "python",
   "nbconvert_exporter": "python",
   "pygments_lexer": "ipython3",
   "version": "3.7.5"
  }
 },
 "nbformat": 4,
 "nbformat_minor": 1
}
